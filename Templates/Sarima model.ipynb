{
  "cells": [
    {
      "cell_type": "markdown",
      "metadata": {
        "id": "view-in-github",
        "colab_type": "text"
      },
      "source": [
        "<a href=\"https://colab.research.google.com/github/Coresight-Adithya/Automated-Projections/blob/main/Food%20at%20Home%20CPI%20US/Sarima%20model.ipynb\" target=\"_parent\"><img src=\"https://colab.research.google.com/assets/colab-badge.svg\" alt=\"Open In Colab\"/></a>"
      ]
    },
    {
      "cell_type": "code",
      "source": [
        "!pip install sqlalchemy\n",
        "!pip install pmdarima"
      ],
      "metadata": {
        "id": "WHsQIwajRmrU",
        "outputId": "f190e3f5-16a1-440b-8697-a57e47c024d9",
        "colab": {
          "base_uri": "https://localhost:8080/"
        }
      },
      "id": "WHsQIwajRmrU",
      "execution_count": 1,
      "outputs": [
        {
          "output_type": "stream",
          "name": "stdout",
          "text": [
            "Looking in indexes: https://pypi.org/simple, https://us-python.pkg.dev/colab-wheels/public/simple/\n",
            "Requirement already satisfied: sqlalchemy in /usr/local/lib/python3.7/dist-packages (1.4.39)\n",
            "Requirement already satisfied: importlib-metadata in /usr/local/lib/python3.7/dist-packages (from sqlalchemy) (4.12.0)\n",
            "Requirement already satisfied: greenlet!=0.4.17 in /usr/local/lib/python3.7/dist-packages (from sqlalchemy) (1.1.2)\n",
            "Requirement already satisfied: typing-extensions>=3.6.4 in /usr/local/lib/python3.7/dist-packages (from importlib-metadata->sqlalchemy) (4.1.1)\n",
            "Requirement already satisfied: zipp>=0.5 in /usr/local/lib/python3.7/dist-packages (from importlib-metadata->sqlalchemy) (3.8.1)\n",
            "Looking in indexes: https://pypi.org/simple, https://us-python.pkg.dev/colab-wheels/public/simple/\n",
            "Collecting pmdarima\n",
            "  Downloading pmdarima-1.8.5-cp37-cp37m-manylinux_2_17_x86_64.manylinux2014_x86_64.manylinux_2_24_x86_64.whl (1.4 MB)\n",
            "\u001b[K     |████████████████████████████████| 1.4 MB 5.0 MB/s \n",
            "\u001b[?25hRequirement already satisfied: pandas>=0.19 in /usr/local/lib/python3.7/dist-packages (from pmdarima) (1.3.5)\n",
            "Requirement already satisfied: scipy>=1.3.2 in /usr/local/lib/python3.7/dist-packages (from pmdarima) (1.7.3)\n",
            "Requirement already satisfied: urllib3 in /usr/local/lib/python3.7/dist-packages (from pmdarima) (1.24.3)\n",
            "Collecting statsmodels!=0.12.0,>=0.11\n",
            "  Downloading statsmodels-0.13.2-cp37-cp37m-manylinux_2_17_x86_64.manylinux2014_x86_64.whl (9.8 MB)\n",
            "\u001b[K     |████████████████████████████████| 9.8 MB 20.8 MB/s \n",
            "\u001b[?25hRequirement already satisfied: scikit-learn>=0.22 in /usr/local/lib/python3.7/dist-packages (from pmdarima) (1.0.2)\n",
            "Requirement already satisfied: setuptools!=50.0.0,>=38.6.0 in /usr/local/lib/python3.7/dist-packages (from pmdarima) (57.4.0)\n",
            "Requirement already satisfied: joblib>=0.11 in /usr/local/lib/python3.7/dist-packages (from pmdarima) (1.1.0)\n",
            "Requirement already satisfied: numpy>=1.19.3 in /usr/local/lib/python3.7/dist-packages (from pmdarima) (1.21.6)\n",
            "Requirement already satisfied: Cython!=0.29.18,>=0.29 in /usr/local/lib/python3.7/dist-packages (from pmdarima) (0.29.30)\n",
            "Requirement already satisfied: python-dateutil>=2.7.3 in /usr/local/lib/python3.7/dist-packages (from pandas>=0.19->pmdarima) (2.8.2)\n",
            "Requirement already satisfied: pytz>=2017.3 in /usr/local/lib/python3.7/dist-packages (from pandas>=0.19->pmdarima) (2022.1)\n",
            "Requirement already satisfied: six>=1.5 in /usr/local/lib/python3.7/dist-packages (from python-dateutil>=2.7.3->pandas>=0.19->pmdarima) (1.15.0)\n",
            "Requirement already satisfied: threadpoolctl>=2.0.0 in /usr/local/lib/python3.7/dist-packages (from scikit-learn>=0.22->pmdarima) (3.1.0)\n",
            "Requirement already satisfied: patsy>=0.5.2 in /usr/local/lib/python3.7/dist-packages (from statsmodels!=0.12.0,>=0.11->pmdarima) (0.5.2)\n",
            "Requirement already satisfied: packaging>=21.3 in /usr/local/lib/python3.7/dist-packages (from statsmodels!=0.12.0,>=0.11->pmdarima) (21.3)\n",
            "Requirement already satisfied: pyparsing!=3.0.5,>=2.0.2 in /usr/local/lib/python3.7/dist-packages (from packaging>=21.3->statsmodels!=0.12.0,>=0.11->pmdarima) (3.0.9)\n",
            "Installing collected packages: statsmodels, pmdarima\n",
            "  Attempting uninstall: statsmodels\n",
            "    Found existing installation: statsmodels 0.10.2\n",
            "    Uninstalling statsmodels-0.10.2:\n",
            "      Successfully uninstalled statsmodels-0.10.2\n",
            "Successfully installed pmdarima-1.8.5 statsmodels-0.13.2\n"
          ]
        }
      ]
    },
    {
      "cell_type": "code",
      "execution_count": 2,
      "id": "5fb39f2c",
      "metadata": {
        "id": "5fb39f2c"
      },
      "outputs": [],
      "source": [
        "from sqlalchemy import create_engine\n",
        "from urllib.parse import quote\n",
        "from pmdarima import auto_arima\n",
        "from statsmodels.tsa.statespace.sarimax import SARIMAX\n",
        "from statsmodels.tsa.seasonal import seasonal_decompose\n",
        "from pandas.tseries.offsets import MonthEnd\n",
        "import pandas as pd\n",
        "import numpy as np\n",
        "from datetime import datetime"
      ]
    },
    {
      "cell_type": "code",
      "execution_count": 3,
      "id": "232e6bd6",
      "metadata": {
        "id": "232e6bd6"
      },
      "outputs": [],
      "source": [
        "import warnings\n",
        "warnings.filterwarnings('ignore')"
      ]
    },
    {
      "cell_type": "code",
      "source": [
        "!pip install pymysql"
      ],
      "metadata": {
        "id": "VLBjmF4TR15Q",
        "outputId": "0448dea9-77c1-48a1-d39c-8be6104deb58",
        "colab": {
          "base_uri": "https://localhost:8080/"
        }
      },
      "id": "VLBjmF4TR15Q",
      "execution_count": null,
      "outputs": [
        {
          "output_type": "stream",
          "name": "stdout",
          "text": [
            "Looking in indexes: https://pypi.org/simple, https://us-python.pkg.dev/colab-wheels/public/simple/\n",
            "Collecting pymysql\n",
            "  Downloading PyMySQL-1.0.2-py3-none-any.whl (43 kB)\n",
            "\u001b[K     |████████████████████████████████| 43 kB 998 kB/s \n",
            "\u001b[?25hInstalling collected packages: pymysql\n",
            "Successfully installed pymysql-1.0.2\n"
          ]
        }
      ]
    },
    {
      "cell_type": "code",
      "execution_count": null,
      "id": "bf463414",
      "metadata": {
        "id": "bf463414"
      },
      "outputs": [],
      "source": [
        "# Data from DWH\n",
        "db = 'mysql+pymysql://warehouse_user:%s@partner1.coresight.com:3306/warehouse_db?charset=utf8mb4' %quote('DW@core.local')\n",
        "cnx = create_engine(db).raw_connection()\n",
        "\n",
        "dftmp = pd.read_sql_query(\"\"\"\n",
        "select mth, amt from dwh_uscensusretailtrade where catcode='442'\n",
        "\"\"\", con=cnx)\n",
        "\n",
        "dftmp['ds'] = pd.to_datetime(dftmp['mth'], format='%Y-%m') + MonthEnd(1)\n",
        "df = dftmp[['ds', 'amt']]\n",
        "df.columns = ['ds', 'y']\n",
        "\n",
        "cnx.close()"
      ]
    },
    {
      "cell_type": "code",
      "source": [
        "df.to_excel('Data MarketSize - USCensus.xlsx')"
      ],
      "metadata": {
        "id": "8yvgpwI8SHAR"
      },
      "id": "8yvgpwI8SHAR",
      "execution_count": null,
      "outputs": []
    },
    {
      "cell_type": "code",
      "execution_count": null,
      "id": "44d0102d",
      "metadata": {
        "id": "44d0102d"
      },
      "outputs": [],
      "source": [
        "df = df[['ds', 'y']][df['ds'] > '2010-01-01']"
      ]
    },
    {
      "cell_type": "code",
      "source": [
        "data_url =\"https://raw.githubusercontent.com/Coresight-Adithya/Automated-Projections/main/Food%20at%20Home%20CPI%20US/Food%20At%20Home%20CPI.csv\" \n",
        "data_name = \"Food at home\"\n",
        "df = pd.read_csv(data_url)\n",
        "print(df)\n",
        "df['Date'] = pd.to_datetime(df['Date'], format='%d-%m-%Y') + MonthEnd(1)\n",
        "df.columns = ['ds', 'y']\n",
        "df['y'] = df['y'].astype(float)\n",
        "df = df.dropna()"
      ],
      "metadata": {
        "id": "1x2kpdXvxbBO",
        "outputId": "90df6be6-8ef6-45d9-889a-5f714c642bda",
        "colab": {
          "base_uri": "https://localhost:8080/"
        }
      },
      "id": "1x2kpdXvxbBO",
      "execution_count": 4,
      "outputs": [
        {
          "output_type": "stream",
          "name": "stdout",
          "text": [
            "           Date   Sales \n",
            "0    01-01-2010  215.404\n",
            "1    01-02-2010  215.118\n",
            "2    01-03-2010  215.623\n",
            "3    01-04-2010  215.737\n",
            "4    01-05-2010  215.793\n",
            "..          ...      ...\n",
            "145  01-02-2022  274.568\n",
            "146  01-03-2022  278.612\n",
            "147  01-04-2022  282.161\n",
            "148  01-05-2022  285.953\n",
            "149  01-06-2022  288.884\n",
            "\n",
            "[150 rows x 2 columns]\n"
          ]
        }
      ]
    },
    {
      "cell_type": "code",
      "execution_count": 5,
      "id": "30c9b66d",
      "metadata": {
        "id": "30c9b66d"
      },
      "outputs": [],
      "source": [
        "df = df.set_index('ds')\n",
        "df.index.freq = 'M'"
      ]
    },
    {
      "cell_type": "code",
      "execution_count": 6,
      "id": "551eebbf",
      "metadata": {
        "id": "551eebbf",
        "outputId": "5e133159-c09f-45aa-8575-0dd9347cdb20",
        "colab": {
          "base_uri": "https://localhost:8080/",
          "height": 514
        }
      },
      "outputs": [
        {
          "output_type": "execute_result",
          "data": {
            "text/plain": [
              "<matplotlib.axes._subplots.AxesSubplot at 0x7f2fbab70c90>"
            ]
          },
          "metadata": {},
          "execution_count": 6
        },
        {
          "output_type": "display_data",
          "data": {
            "text/plain": [
              "<Figure size 864x576 with 1 Axes>"
            ],
            "image/png": "[encoded data removed]"
          },
          "metadata": {
            "needs_background": "light"
          }
        }
      ],
      "source": [
        "df.plot(figsize=(12,8))"
      ]
    },
    {
      "cell_type": "code",
      "execution_count": 7,
      "id": "9fc74d82",
      "metadata": {
        "id": "9fc74d82"
      },
      "outputs": [],
      "source": [
        "res = seasonal_decompose(df, model='additive')"
      ]
    },
    {
      "cell_type": "code",
      "execution_count": 8,
      "id": "08f578e1",
      "metadata": {
        "id": "08f578e1",
        "outputId": "d12e47eb-9bd2-4ab6-8ee3-3ba16227c56e",
        "colab": {
          "base_uri": "https://localhost:8080/",
          "height": 297
        }
      },
      "outputs": [
        {
          "output_type": "display_data",
          "data": {
            "text/plain": [
              "<Figure size 432x288 with 4 Axes>"
            ],
            "image/png": "[encoded data removed]"
          },
          "metadata": {
            "needs_background": "light"
          }
        }
      ],
      "source": [
        "res.plot();"
      ]
    },
    {
      "cell_type": "code",
      "execution_count": 9,
      "id": "0c5b5fb4",
      "metadata": {
        "id": "0c5b5fb4",
        "outputId": "ca87a20b-5749-41ef-f126-559e31ff0a74",
        "colab": {
          "base_uri": "https://localhost:8080/",
          "height": 508
        }
      },
      "outputs": [
        {
          "output_type": "display_data",
          "data": {
            "text/plain": [
              "<Figure size 1440x576 with 1 Axes>"
            ],
            "image/png": "[encoded data removed]"
          },
          "metadata": {
            "needs_background": "light"
          }
        }
      ],
      "source": [
        "res.seasonal[\"2020\":\"2021\"].plot(figsize=(20,8));"
      ]
    },
    {
      "cell_type": "code",
      "execution_count": 10,
      "id": "b0d87485",
      "metadata": {
        "scrolled": true,
        "id": "b0d87485",
        "outputId": "47621e68-48ab-4a28-ec86-d09d90a0e709",
        "colab": {
          "base_uri": "https://localhost:8080/",
          "height": 1000
        }
      },
      "outputs": [
        {
          "output_type": "stream",
          "name": "stdout",
          "text": [
            "Performing stepwise search to minimize aic\n",
            " ARIMA(2,2,2)(1,0,1)[12]             : AIC=400.176, Time=0.76 sec\n",
            " ARIMA(0,2,0)(0,0,0)[12]             : AIC=469.866, Time=0.01 sec\n",
            " ARIMA(1,2,0)(1,0,0)[12]             : AIC=438.251, Time=0.07 sec\n",
            " ARIMA(0,2,1)(0,0,1)[12]             : AIC=426.479, Time=0.10 sec\n",
            " ARIMA(2,2,2)(0,0,1)[12]             : AIC=424.934, Time=0.39 sec\n",
            " ARIMA(2,2,2)(1,0,0)[12]             : AIC=421.662, Time=0.37 sec\n",
            " ARIMA(2,2,2)(2,0,1)[12]             : AIC=398.758, Time=1.47 sec\n",
            " ARIMA(2,2,2)(2,0,0)[12]             : AIC=407.597, Time=0.91 sec\n",
            " ARIMA(2,2,2)(2,0,2)[12]             : AIC=400.397, Time=2.46 sec\n",
            " ARIMA(2,2,2)(1,0,2)[12]             : AIC=398.398, Time=1.56 sec\n",
            " ARIMA(2,2,2)(0,0,2)[12]             : AIC=416.486, Time=1.23 sec\n",
            " ARIMA(1,2,2)(1,0,2)[12]             : AIC=406.101, Time=1.80 sec\n",
            " ARIMA(2,2,1)(1,0,2)[12]             : AIC=403.875, Time=1.29 sec\n",
            " ARIMA(3,2,2)(1,0,2)[12]             : AIC=399.610, Time=2.02 sec\n",
            " ARIMA(2,2,3)(1,0,2)[12]             : AIC=399.494, Time=2.59 sec\n",
            " ARIMA(1,2,1)(1,0,2)[12]             : AIC=406.230, Time=0.83 sec\n",
            " ARIMA(1,2,3)(1,0,2)[12]             : AIC=398.923, Time=3.63 sec\n",
            " ARIMA(3,2,1)(1,0,2)[12]             : AIC=400.884, Time=1.53 sec\n",
            " ARIMA(3,2,3)(1,0,2)[12]             : AIC=398.345, Time=3.63 sec\n",
            " ARIMA(3,2,3)(0,0,2)[12]             : AIC=416.776, Time=1.84 sec\n",
            " ARIMA(3,2,3)(1,0,1)[12]             : AIC=400.861, Time=1.27 sec\n",
            " ARIMA(3,2,3)(2,0,2)[12]             : AIC=401.186, Time=3.85 sec\n",
            " ARIMA(3,2,3)(0,0,1)[12]             : AIC=423.158, Time=0.53 sec\n",
            " ARIMA(3,2,3)(2,0,1)[12]             : AIC=398.787, Time=3.50 sec\n",
            " ARIMA(4,2,3)(1,0,2)[12]             : AIC=399.954, Time=3.81 sec\n",
            " ARIMA(3,2,4)(1,0,2)[12]             : AIC=402.901, Time=4.47 sec\n",
            " ARIMA(2,2,4)(1,0,2)[12]             : AIC=401.444, Time=3.28 sec\n",
            " ARIMA(4,2,2)(1,0,2)[12]             : AIC=401.489, Time=2.65 sec\n",
            " ARIMA(4,2,4)(1,0,2)[12]             : AIC=405.489, Time=4.55 sec\n",
            " ARIMA(3,2,3)(1,0,2)[12] intercept   : AIC=401.504, Time=7.26 sec\n",
            "\n",
            "Best model:  ARIMA(3,2,3)(1,0,2)[12]          \n",
            "Total fit time: 63.762 seconds\n"
          ]
        },
        {
          "output_type": "execute_result",
          "data": {
            "text/plain": [
              "<class 'statsmodels.iolib.summary.Summary'>\n",
              "\"\"\"\n",
              "                                        SARIMAX Results                                        \n",
              "===============================================================================================\n",
              "Dep. Variable:                                       y   No. Observations:                  150\n",
              "Model:             SARIMAX(3, 2, 3)x(1, 0, [1, 2], 12)   Log Likelihood                -189.172\n",
              "Date:                                 Fri, 22 Jul 2022   AIC                            398.345\n",
              "Time:                                         07:20:18   BIC                            428.317\n",
              "Sample:                                              0   HQIC                           410.522\n",
              "                                                 - 150                                         \n",
              "Covariance Type:                                   opg                                         \n",
              "==============================================================================\n",
              "                 coef    std err          z      P>|z|      [0.025      0.975]\n",
              "------------------------------------------------------------------------------\n",
              "ar.L1         -1.4284      0.198     -7.225      0.000      -1.816      -1.041\n",
              "ar.L2          0.0338      0.314      0.107      0.914      -0.582       0.650\n",
              "ar.L3          0.4810      0.135      3.551      0.000       0.216       0.746\n",
              "ma.L1          0.8936      0.152      5.874      0.000       0.595       1.192\n",
              "ma.L2         -0.8207      0.116     -7.101      0.000      -1.047      -0.594\n",
              "ma.L3         -0.7338      0.119     -6.174      0.000      -0.967      -0.501\n",
              "ar.S.L12       0.9050      0.090     10.066      0.000       0.729       1.081\n",
              "ma.S.L12      -0.8525      0.145     -5.865      0.000      -1.137      -0.568\n",
              "ma.S.L24       0.2399      0.135      1.780      0.075      -0.024       0.504\n",
              "sigma2         0.7136      0.061     11.648      0.000       0.593       0.834\n",
              "===================================================================================\n",
              "Ljung-Box (L1) (Q):                   0.05   Jarque-Bera (JB):               747.67\n",
              "Prob(Q):                              0.83   Prob(JB):                         0.00\n",
              "Heteroskedasticity (H):               4.08   Skew:                             1.06\n",
              "Prob(H) (two-sided):                  0.00   Kurtosis:                        13.80\n",
              "===================================================================================\n",
              "\n",
              "Warnings:\n",
              "[1] Covariance matrix calculated using the outer product of gradients (complex-step).\n",
              "\"\"\""
            ],
            "text/html": [
              "<table class=\"simpletable\">\n",
              "<caption>SARIMAX Results</caption>\n",
              "<tr>\n",
              "  <th>Dep. Variable:</th>                    <td>y</td>                  <th>  No. Observations:  </th>    <td>150</td>  \n",
              "</tr>\n",
              "<tr>\n",
              "  <th>Model:</th>           <td>SARIMAX(3, 2, 3)x(1, 0, [1, 2], 12)</td> <th>  Log Likelihood     </th> <td>-189.172</td>\n",
              "</tr>\n",
              "<tr>\n",
              "  <th>Date:</th>                     <td>Fri, 22 Jul 2022</td>           <th>  AIC                </th>  <td>398.345</td>\n",
              "</tr>\n",
              "<tr>\n",
              "  <th>Time:</th>                         <td>07:20:18</td>               <th>  BIC                </th>  <td>428.317</td>\n",
              "</tr>\n",
              "<tr>\n",
              "  <th>Sample:</th>                           <td>0</td>                  <th>  HQIC               </th>  <td>410.522</td>\n",
              "</tr>\n",
              "<tr>\n",
              "  <th></th>                               <td> - 150</td>                <th>                     </th>     <td> </td>   \n",
              "</tr>\n",
              "<tr>\n",
              "  <th>Covariance Type:</th>                 <td>opg</td>                 <th>                     </th>     <td> </td>   \n",
              "</tr>\n",
              "</table>\n",
              "<table class=\"simpletable\">\n",
              "<tr>\n",
              "      <td></td>        <th>coef</th>     <th>std err</th>      <th>z</th>      <th>P>|z|</th>  <th>[0.025</th>    <th>0.975]</th>  \n",
              "</tr>\n",
              "<tr>\n",
              "  <th>ar.L1</th>    <td>   -1.4284</td> <td>    0.198</td> <td>   -7.225</td> <td> 0.000</td> <td>   -1.816</td> <td>   -1.041</td>\n",
              "</tr>\n",
              "<tr>\n",
              "  <th>ar.L2</th>    <td>    0.0338</td> <td>    0.314</td> <td>    0.107</td> <td> 0.914</td> <td>   -0.582</td> <td>    0.650</td>\n",
              "</tr>\n",
              "<tr>\n",
              "  <th>ar.L3</th>    <td>    0.4810</td> <td>    0.135</td> <td>    3.551</td> <td> 0.000</td> <td>    0.216</td> <td>    0.746</td>\n",
              "</tr>\n",
              "<tr>\n",
              "  <th>ma.L1</th>    <td>    0.8936</td> <td>    0.152</td> <td>    5.874</td> <td> 0.000</td> <td>    0.595</td> <td>    1.192</td>\n",
              "</tr>\n",
              "<tr>\n",
              "  <th>ma.L2</th>    <td>   -0.8207</td> <td>    0.116</td> <td>   -7.101</td> <td> 0.000</td> <td>   -1.047</td> <td>   -0.594</td>\n",
              "</tr>\n",
              "<tr>\n",
              "  <th>ma.L3</th>    <td>   -0.7338</td> <td>    0.119</td> <td>   -6.174</td> <td> 0.000</td> <td>   -0.967</td> <td>   -0.501</td>\n",
              "</tr>\n",
              "<tr>\n",
              "  <th>ar.S.L12</th> <td>    0.9050</td> <td>    0.090</td> <td>   10.066</td> <td> 0.000</td> <td>    0.729</td> <td>    1.081</td>\n",
              "</tr>\n",
              "<tr>\n",
              "  <th>ma.S.L12</th> <td>   -0.8525</td> <td>    0.145</td> <td>   -5.865</td> <td> 0.000</td> <td>   -1.137</td> <td>   -0.568</td>\n",
              "</tr>\n",
              "<tr>\n",
              "  <th>ma.S.L24</th> <td>    0.2399</td> <td>    0.135</td> <td>    1.780</td> <td> 0.075</td> <td>   -0.024</td> <td>    0.504</td>\n",
              "</tr>\n",
              "<tr>\n",
              "  <th>sigma2</th>   <td>    0.7136</td> <td>    0.061</td> <td>   11.648</td> <td> 0.000</td> <td>    0.593</td> <td>    0.834</td>\n",
              "</tr>\n",
              "</table>\n",
              "<table class=\"simpletable\">\n",
              "<tr>\n",
              "  <th>Ljung-Box (L1) (Q):</th>     <td>0.05</td> <th>  Jarque-Bera (JB):  </th> <td>747.67</td>\n",
              "</tr>\n",
              "<tr>\n",
              "  <th>Prob(Q):</th>                <td>0.83</td> <th>  Prob(JB):          </th>  <td>0.00</td> \n",
              "</tr>\n",
              "<tr>\n",
              "  <th>Heteroskedasticity (H):</th> <td>4.08</td> <th>  Skew:              </th>  <td>1.06</td> \n",
              "</tr>\n",
              "<tr>\n",
              "  <th>Prob(H) (two-sided):</th>    <td>0.00</td> <th>  Kurtosis:          </th>  <td>13.80</td>\n",
              "</tr>\n",
              "</table><br/><br/>Warnings:<br/>[1] Covariance matrix calculated using the outer product of gradients (complex-step)."
            ]
          },
          "metadata": {},
          "execution_count": 10
        }
      ],
      "source": [
        "auto_arima(y=df, seasonal=True, m=12, trace=True).summary()"
      ]
    },
    {
      "cell_type": "code",
      "execution_count": 11,
      "id": "de07d378",
      "metadata": {
        "id": "de07d378"
      },
      "outputs": [],
      "source": [
        "sxorder = (3,2,3)\n",
        "sxsorder = (1,0,2,12)"
      ]
    },
    {
      "cell_type": "code",
      "execution_count": 12,
      "id": "e67a0068",
      "metadata": {
        "id": "e67a0068"
      },
      "outputs": [],
      "source": [
        "def testmodel(train, test):\n",
        "    print('train end: ', train.index[-1])\n",
        "    \n",
        "    print('\\n---------\\n')\n",
        "\n",
        "    model = SARIMAX(endog=train, order=sxorder, seasonal_order=sxsorder).fit(disp=0)\n",
        "\n",
        "    test['ypred'] = model.predict(start=test.index[0], end=test.index[-1])\n",
        "\n",
        "    mape = round(np.mean(np.abs((test['y'] - test['ypred'])/test['y'])),3)\n",
        "    accuracy = round((1-mape)*100,1)\n",
        "    print('Accuracy: ', accuracy)\n",
        "\n",
        "    print('\\n---------\\n')\n",
        "\n",
        "    dffcast = model.get_forecast(steps=24).summary_frame()\n",
        "    dffcast['bounds'] = round((pd.to_numeric(dffcast['mean_ci_upper'])-pd.to_numeric(dffcast['mean_ci_lower']))/pd.to_numeric(dffcast['mean'])*100)\n",
        "    print(dffcast[['mean_ci_lower', 'mean', 'mean_ci_upper', 'bounds']])\n",
        "    \n",
        "    print('\\n---------\\n')\n",
        "    \n",
        "    test['mape'] = (1-round(abs(test['y'] - test['ypred'])/test['y'],6))*100\n",
        "    test[['y', 'ypred', 'mape']]\n",
        "    print(test[['y', 'ypred', 'mape']])"
      ]
    },
    {
      "cell_type": "code",
      "source": [
        "df[:-48]"
      ],
      "metadata": {
        "id": "go35FvReeasr",
        "outputId": "fab20979-0278-4d0f-cfd3-4000184fae1d",
        "colab": {
          "base_uri": "https://localhost:8080/",
          "height": 455
        }
      },
      "id": "go35FvReeasr",
      "execution_count": 13,
      "outputs": [
        {
          "output_type": "execute_result",
          "data": {
            "text/plain": [
              "                  y\n",
              "ds                 \n",
              "2010-01-31  215.404\n",
              "2010-02-28  215.118\n",
              "2010-03-31  215.623\n",
              "2010-04-30  215.737\n",
              "2010-05-31  215.793\n",
              "...             ...\n",
              "2018-02-28  239.190\n",
              "2018-03-31  239.158\n",
              "2018-04-30  240.129\n",
              "2018-05-31  239.287\n",
              "2018-06-30  239.158\n",
              "\n",
              "[102 rows x 1 columns]"
            ],
            "text/html": [
              "\n",
              "  <div id=\"df-5b9faae7-c920-4a57-a262-d57a375f4208\">\n",
              "    <div class=\"colab-df-container\">\n",
              "      <div>\n",
              "<style scoped>\n",
              "    .dataframe tbody tr th:only-of-type {\n",
              "        vertical-align: middle;\n",
              "    }\n",
              "\n",
              "    .dataframe tbody tr th {\n",
              "        vertical-align: top;\n",
              "    }\n",
              "\n",
              "    .dataframe thead th {\n",
              "        text-align: right;\n",
              "    }\n",
              "</style>\n",
              "<table border=\"1\" class=\"dataframe\">\n",
              "  <thead>\n",
              "    <tr style=\"text-align: right;\">\n",
              "      <th></th>\n",
              "      <th>y</th>\n",
              "    </tr>\n",
              "    <tr>\n",
              "      <th>ds</th>\n",
              "      <th></th>\n",
              "    </tr>\n",
              "  </thead>\n",
              "  <tbody>\n",
              "    <tr>\n",
              "      <th>2010-01-31</th>\n",
              "      <td>215.404</td>\n",
              "    </tr>\n",
              "    <tr>\n",
              "      <th>2010-02-28</th>\n",
              "      <td>215.118</td>\n",
              "    </tr>\n",
              "    <tr>\n",
              "      <th>2010-03-31</th>\n",
              "      <td>215.623</td>\n",
              "    </tr>\n",
              "    <tr>\n",
              "      <th>2010-04-30</th>\n",
              "      <td>215.737</td>\n",
              "    </tr>\n",
              "    <tr>\n",
              "      <th>2010-05-31</th>\n",
              "      <td>215.793</td>\n",
              "    </tr>\n",
              "    <tr>\n",
              "      <th>...</th>\n",
              "      <td>...</td>\n",
              "    </tr>\n",
              "    <tr>\n",
              "      <th>2018-02-28</th>\n",
              "      <td>239.190</td>\n",
              "    </tr>\n",
              "    <tr>\n",
              "      <th>2018-03-31</th>\n",
              "      <td>239.158</td>\n",
              "    </tr>\n",
              "    <tr>\n",
              "      <th>2018-04-30</th>\n",
              "      <td>240.129</td>\n",
              "    </tr>\n",
              "    <tr>\n",
              "      <th>2018-05-31</th>\n",
              "      <td>239.287</td>\n",
              "    </tr>\n",
              "    <tr>\n",
              "      <th>2018-06-30</th>\n",
              "      <td>239.158</td>\n",
              "    </tr>\n",
              "  </tbody>\n",
              "</table>\n",
              "<p>102 rows × 1 columns</p>\n",
              "</div>\n",
              "      <button class=\"colab-df-convert\" onclick=\"convertToInteractive('df-5b9faae7-c920-4a57-a262-d57a375f4208')\"\n",
              "              title=\"Convert this dataframe to an interactive table.\"\n",
              "              style=\"display:none;\">\n",
              "        \n",
              "  <svg xmlns=\"http://www.w3.org/2000/svg\" height=\"24px\"viewBox=\"0 0 24 24\"\n",
              "       width=\"24px\">\n",
              "    <path d=\"M0 0h24v24H0V0z\" fill=\"none\"/>\n",
              "    <path d=\"M18.56 5.44l.94 2.06.94-2.06 2.06-.94-2.06-.94-.94-2.06-.94 2.06-2.06.94zm-11 1L8.5 8.5l.94-2.06 2.06-.94-2.06-.94L8.5 2.5l-.94 2.06-2.06.94zm10 10l.94 2.06.94-2.06 2.06-.94-2.06-.94-.94-2.06-.94 2.06-2.06.94z\"/><path d=\"M17.41 7.96l-1.37-1.37c-.4-.4-.92-.59-1.43-.59-.52 0-1.04.2-1.43.59L10.3 9.45l-7.72 7.72c-.78.78-.78 2.05 0 2.83L4 21.41c.39.39.9.59 1.41.59.51 0 1.02-.2 1.41-.59l7.78-7.78 2.81-2.81c.8-.78.8-2.07 0-2.86zM5.41 20L4 18.59l7.72-7.72 1.47 1.35L5.41 20z\"/>\n",
              "  </svg>\n",
              "      </button>\n",
              "      \n",
              "  <style>\n",
              "    .colab-df-container {\n",
              "      display:flex;\n",
              "      flex-wrap:wrap;\n",
              "      gap: 12px;\n",
              "    }\n",
              "\n",
              "    .colab-df-convert {\n",
              "      background-color: #E8F0FE;\n",
              "      border: none;\n",
              "      border-radius: 50%;\n",
              "      cursor: pointer;\n",
              "      display: none;\n",
              "      fill: #1967D2;\n",
              "      height: 32px;\n",
              "      padding: 0 0 0 0;\n",
              "      width: 32px;\n",
              "    }\n",
              "\n",
              "    .colab-df-convert:hover {\n",
              "      background-color: #E2EBFA;\n",
              "      box-shadow: 0px 1px 2px rgba(60, 64, 67, 0.3), 0px 1px 3px 1px rgba(60, 64, 67, 0.15);\n",
              "      fill: #174EA6;\n",
              "    }\n",
              "\n",
              "    [theme=dark] .colab-df-convert {\n",
              "      background-color: #3B4455;\n",
              "      fill: #D2E3FC;\n",
              "    }\n",
              "\n",
              "    [theme=dark] .colab-df-convert:hover {\n",
              "      background-color: #434B5C;\n",
              "      box-shadow: 0px 1px 3px 1px rgba(0, 0, 0, 0.15);\n",
              "      filter: drop-shadow(0px 1px 2px rgba(0, 0, 0, 0.3));\n",
              "      fill: #FFFFFF;\n",
              "    }\n",
              "  </style>\n",
              "\n",
              "      <script>\n",
              "        const buttonEl =\n",
              "          document.querySelector('#df-5b9faae7-c920-4a57-a262-d57a375f4208 button.colab-df-convert');\n",
              "        buttonEl.style.display =\n",
              "          google.colab.kernel.accessAllowed ? 'block' : 'none';\n",
              "\n",
              "        async function convertToInteractive(key) {\n",
              "          const element = document.querySelector('#df-5b9faae7-c920-4a57-a262-d57a375f4208');\n",
              "          const dataTable =\n",
              "            await google.colab.kernel.invokeFunction('convertToInteractive',\n",
              "                                                     [key], {});\n",
              "          if (!dataTable) return;\n",
              "\n",
              "          const docLinkHtml = 'Like what you see? Visit the ' +\n",
              "            '<a target=\"_blank\" href=https://colab.research.google.com/notebooks/data_table.ipynb>data table notebook</a>'\n",
              "            + ' to learn more about interactive tables.';\n",
              "          element.innerHTML = '';\n",
              "          dataTable['output_type'] = 'display_data';\n",
              "          await google.colab.output.renderOutput(dataTable, element);\n",
              "          const docLink = document.createElement('div');\n",
              "          docLink.innerHTML = docLinkHtml;\n",
              "          element.appendChild(docLink);\n",
              "        }\n",
              "      </script>\n",
              "    </div>\n",
              "  </div>\n",
              "  "
            ]
          },
          "metadata": {},
          "execution_count": 13
        }
      ]
    },
    {
      "cell_type": "code",
      "execution_count": 14,
      "id": "2ac7fe7b",
      "metadata": {
        "scrolled": true,
        "id": "2ac7fe7b",
        "outputId": "90d87141-944c-465d-a105-4e70fa9e79f3",
        "colab": {
          "base_uri": "https://localhost:8080/"
        }
      },
      "outputs": [
        {
          "output_type": "stream",
          "name": "stdout",
          "text": [
            "train end:  2018-06-30 00:00:00\n",
            "\n",
            "---------\n",
            "\n",
            "Accuracy:  93.6\n",
            "\n",
            "---------\n",
            "\n",
            "y           mean_ci_lower        mean  mean_ci_upper  bounds\n",
            "2018-07-31     237.952888  239.043797     240.134705     1.0\n",
            "2018-08-31     237.545589  239.285620     241.025650     1.0\n",
            "2018-09-30     236.906032  239.428605     241.951177     2.0\n",
            "2018-10-31     236.294706  239.551534     242.808361     3.0\n",
            "2018-11-30     234.513208  238.502609     242.492010     3.0\n",
            "2018-12-31     233.654401  238.350137     243.045874     4.0\n",
            "2019-01-31     233.958300  239.339096     244.719892     4.0\n",
            "2019-02-28     233.047265  239.094895     245.142525     5.0\n",
            "2019-03-31     232.141543  238.835495     245.529447     6.0\n",
            "2019-04-30     231.606195  238.931107     246.256020     6.0\n",
            "2019-05-31     230.604387  238.543144     246.481901     7.0\n",
            "2019-06-30     229.489408  238.030409     246.571409     7.0\n",
            "2019-07-31     228.812846  237.976933     247.141020     8.0\n",
            "2019-08-31     228.276487  238.060059     247.843631     8.0\n",
            "2019-09-30     227.756001  238.159387     248.562774     9.0\n",
            "2019-10-31     227.176500  238.196965     249.217431     9.0\n",
            "2019-11-30     225.447818  237.080887     248.713956    10.0\n",
            "2019-12-31     224.616162  236.860392     249.104622    10.0\n",
            "2020-01-31     224.935498  237.786165     250.636832    11.0\n",
            "2020-02-29     224.003789  237.463060     250.922332    11.0\n",
            "2020-03-31     223.077739  237.140949     251.204160    12.0\n",
            "2020-04-30     222.523100  237.188527     251.853955    12.0\n",
            "2020-05-31     221.458797  236.722576     251.986355    13.0\n",
            "2020-06-30     220.290077  236.151203     252.012329    13.0\n",
            "\n",
            "---------\n",
            "\n",
            "                  y       ypred     mape\n",
            "ds                                      \n",
            "2018-07-31  239.820  239.043797  99.6763\n",
            "2018-08-31  240.015  239.285620  99.6961\n",
            "2018-09-30  240.125  239.428605  99.7100\n",
            "2018-10-31  239.882  239.551534  99.8622\n",
            "2018-11-30  239.352  238.502609  99.6451\n",
            "2018-12-31  239.989  238.350137  99.3171\n",
            "2019-01-31  241.381  239.339096  99.1541\n",
            "2019-02-28  242.057  239.094895  98.7763\n",
            "2019-03-31  242.555  238.835495  98.4665\n",
            "2019-04-30  241.878  238.931107  98.7817\n",
            "2019-05-31  242.145  238.543144  98.5125\n",
            "2019-06-30  241.407  238.030409  98.6013\n",
            "2019-07-31  241.359  237.976933  98.5987\n",
            "2019-08-31  241.153  238.060059  98.7174\n",
            "2019-09-30  241.543  238.159387  98.5992\n",
            "2019-10-31  242.340  238.196965  98.2904\n",
            "2019-11-30  241.726  237.080887  98.0784\n",
            "2019-12-31  241.750  236.860392  97.9774\n",
            "2020-01-31  243.110  237.786165  97.8101\n",
            "2020-02-29  244.054  237.463060  97.2994\n",
            "2020-03-31  245.163  237.140949  96.7279\n",
            "2020-04-30  251.717  237.188527  94.2283\n",
            "2020-05-31  253.827  236.722576  93.2614\n",
            "2020-06-30  255.042  236.151203  92.5931\n",
            "2020-07-31  252.563  236.029085  93.4535\n",
            "2020-08-31  252.352  236.048323  93.5393\n",
            "2020-09-30  251.369  236.081245  93.9182\n",
            "2020-10-31  251.937  236.053745  93.6955\n",
            "2020-11-30  250.407  234.872538  93.7963\n",
            "2020-12-31  251.253  234.586810  93.3668\n",
            "2021-01-31  252.107  235.446369  93.3914\n",
            "2021-02-28  252.716  235.058011  93.0127\n",
            "2021-03-31  253.231  234.670455  92.6705\n",
            "2021-04-30  254.760  234.652537  92.1073\n",
            "2021-05-31  255.516  234.121231  91.6268\n",
            "2021-06-30  257.412  233.484721  90.7047\n",
            "2021-07-31  259.022  233.297046  90.0684\n",
            "2021-08-31  259.825  233.250793  89.7723\n",
            "2021-09-30  262.695  233.218066  88.7790\n",
            "2021-10-31  265.478  233.125101  87.8133\n",
            "2021-11-30  266.384  231.878966  87.0469\n",
            "2021-12-31  267.555  231.527925  86.5347\n",
            "2022-01-31  270.711  232.321345  85.8190\n",
            "2022-02-28  274.568  231.867734  84.4482\n",
            "2022-03-31  278.612  231.414780  83.0599\n",
            "2022-04-30  282.161  231.331388  81.9856\n",
            "2022-05-31  285.953  230.734770  80.6898\n",
            "2022-06-30  288.884  230.033154  79.6282\n"
          ]
        }
      ],
      "source": [
        "testmodel(df[:-48], df[-48:])"
      ]
    },
    {
      "cell_type": "code",
      "execution_count": 22,
      "id": "8125c302",
      "metadata": {
        "id": "8125c302"
      },
      "outputs": [],
      "source": [
        "model = SARIMAX(endog=df, order=sxorder, seasonal_order=sxsorder).fit(disp=0)\n",
        "pred = model.get_forecast(steps=61).summary_frame()"
      ]
    },
    {
      "cell_type": "code",
      "execution_count": 23,
      "id": "fc6aff05",
      "metadata": {
        "id": "fc6aff05"
      },
      "outputs": [],
      "source": [
        "dffin = pd.DataFrame(index=pd.date_range(df.index[0], pred.index[-1], freq='M'))"
      ]
    },
    {
      "cell_type": "code",
      "execution_count": 24,
      "id": "1a3a0f27",
      "metadata": {
        "id": "1a3a0f27"
      },
      "outputs": [],
      "source": [
        "dffin['y'] = df['y']\n",
        "dffin['ypred'] = pred['mean']"
      ]
    },
    {
      "cell_type": "code",
      "execution_count": 25,
      "id": "adc730d7",
      "metadata": {
        "id": "adc730d7",
        "outputId": "a73ffb3a-e8a0-4283-9557-6996396adefd",
        "colab": {
          "base_uri": "https://localhost:8080/",
          "height": 286
        }
      },
      "outputs": [
        {
          "output_type": "execute_result",
          "data": {
            "text/plain": [
              "<matplotlib.axes._subplots.AxesSubplot at 0x7f2fb69e4610>"
            ]
          },
          "metadata": {},
          "execution_count": 25
        },
        {
          "output_type": "display_data",
          "data": {
            "text/plain": [
              "<Figure size 432x288 with 1 Axes>"
            ],
            "image/png": "[encoded data removed]"
          },
          "metadata": {
            "needs_background": "light"
          }
        }
      ],
      "source": [
        "pred[['mean_ci_lower', 'mean', 'mean_ci_upper']].plot()"
      ]
    },
    {
      "cell_type": "code",
      "execution_count": 26,
      "id": "5b918007",
      "metadata": {
        "scrolled": false,
        "id": "5b918007",
        "outputId": "45b19998-7592-42bc-bce9-702b270d079c",
        "colab": {
          "base_uri": "https://localhost:8080/",
          "height": 500
        }
      },
      "outputs": [
        {
          "output_type": "execute_result",
          "data": {
            "text/plain": [
              "<matplotlib.axes._subplots.AxesSubplot at 0x7f2fb79f5a50>"
            ]
          },
          "metadata": {},
          "execution_count": 26
        },
        {
          "output_type": "display_data",
          "data": {
            "text/plain": [
              "<Figure size 864x576 with 1 Axes>"
            ],
            "image/png": "[encoded data removed]"
          },
          "metadata": {
            "needs_background": "light"
          }
        }
      ],
      "source": [
        "dffin.plot(figsize=(12,8))"
      ]
    },
    {
      "cell_type": "code",
      "execution_count": 27,
      "id": "9ea0a985",
      "metadata": {
        "scrolled": true,
        "id": "9ea0a985",
        "outputId": "f69db48e-b6d4-4ba6-8e53-17d071a1c183",
        "colab": {
          "base_uri": "https://localhost:8080/",
          "height": 424
        }
      },
      "outputs": [
        {
          "output_type": "execute_result",
          "data": {
            "text/plain": [
              "y                 mean    mean_se  mean_ci_lower  mean_ci_upper\n",
              "2022-07-31  291.352953   0.844728     289.697316     293.008590\n",
              "2022-08-31  293.179393   1.498522     290.242344     296.116442\n",
              "2022-09-30  295.730110   2.200374     291.417456     300.042765\n",
              "2022-10-31  297.886729   2.832593     292.334949     303.438509\n",
              "2022-11-30  299.649626   3.482236     292.824569     306.474683\n",
              "...                ...        ...            ...            ...\n",
              "2027-03-31  487.104497  58.391318     372.659617     601.549377\n",
              "2027-04-30  492.406535  60.067561     374.676279     610.136790\n",
              "2027-05-31  497.324463  61.762000     376.273168     618.375757\n",
              "2027-06-30  502.011853  63.474110     377.604885     626.418822\n",
              "2027-07-31  506.309954  65.244419     378.433243     634.186664\n",
              "\n",
              "[61 rows x 4 columns]"
            ],
            "text/html": [
              "\n",
              "  <div id=\"df-a2fe619a-38b6-47b3-b63b-3e73e11fd358\">\n",
              "    <div class=\"colab-df-container\">\n",
              "      <div>\n",
              "<style scoped>\n",
              "    .dataframe tbody tr th:only-of-type {\n",
              "        vertical-align: middle;\n",
              "    }\n",
              "\n",
              "    .dataframe tbody tr th {\n",
              "        vertical-align: top;\n",
              "    }\n",
              "\n",
              "    .dataframe thead th {\n",
              "        text-align: right;\n",
              "    }\n",
              "</style>\n",
              "<table border=\"1\" class=\"dataframe\">\n",
              "  <thead>\n",
              "    <tr style=\"text-align: right;\">\n",
              "      <th>y</th>\n",
              "      <th>mean</th>\n",
              "      <th>mean_se</th>\n",
              "      <th>mean_ci_lower</th>\n",
              "      <th>mean_ci_upper</th>\n",
              "    </tr>\n",
              "  </thead>\n",
              "  <tbody>\n",
              "    <tr>\n",
              "      <th>2022-07-31</th>\n",
              "      <td>291.352953</td>\n",
              "      <td>0.844728</td>\n",
              "      <td>289.697316</td>\n",
              "      <td>293.008590</td>\n",
              "    </tr>\n",
              "    <tr>\n",
              "      <th>2022-08-31</th>\n",
              "      <td>293.179393</td>\n",
              "      <td>1.498522</td>\n",
              "      <td>290.242344</td>\n",
              "      <td>296.116442</td>\n",
              "    </tr>\n",
              "    <tr>\n",
              "      <th>2022-09-30</th>\n",
              "      <td>295.730110</td>\n",
              "      <td>2.200374</td>\n",
              "      <td>291.417456</td>\n",
              "      <td>300.042765</td>\n",
              "    </tr>\n",
              "    <tr>\n",
              "      <th>2022-10-31</th>\n",
              "      <td>297.886729</td>\n",
              "      <td>2.832593</td>\n",
              "      <td>292.334949</td>\n",
              "      <td>303.438509</td>\n",
              "    </tr>\n",
              "    <tr>\n",
              "      <th>2022-11-30</th>\n",
              "      <td>299.649626</td>\n",
              "      <td>3.482236</td>\n",
              "      <td>292.824569</td>\n",
              "      <td>306.474683</td>\n",
              "    </tr>\n",
              "    <tr>\n",
              "      <th>...</th>\n",
              "      <td>...</td>\n",
              "      <td>...</td>\n",
              "      <td>...</td>\n",
              "      <td>...</td>\n",
              "    </tr>\n",
              "    <tr>\n",
              "      <th>2027-03-31</th>\n",
              "      <td>487.104497</td>\n",
              "      <td>58.391318</td>\n",
              "      <td>372.659617</td>\n",
              "      <td>601.549377</td>\n",
              "    </tr>\n",
              "    <tr>\n",
              "      <th>2027-04-30</th>\n",
              "      <td>492.406535</td>\n",
              "      <td>60.067561</td>\n",
              "      <td>374.676279</td>\n",
              "      <td>610.136790</td>\n",
              "    </tr>\n",
              "    <tr>\n",
              "      <th>2027-05-31</th>\n",
              "      <td>497.324463</td>\n",
              "      <td>61.762000</td>\n",
              "      <td>376.273168</td>\n",
              "      <td>618.375757</td>\n",
              "    </tr>\n",
              "    <tr>\n",
              "      <th>2027-06-30</th>\n",
              "      <td>502.011853</td>\n",
              "      <td>63.474110</td>\n",
              "      <td>377.604885</td>\n",
              "      <td>626.418822</td>\n",
              "    </tr>\n",
              "    <tr>\n",
              "      <th>2027-07-31</th>\n",
              "      <td>506.309954</td>\n",
              "      <td>65.244419</td>\n",
              "      <td>378.433243</td>\n",
              "      <td>634.186664</td>\n",
              "    </tr>\n",
              "  </tbody>\n",
              "</table>\n",
              "<p>61 rows × 4 columns</p>\n",
              "</div>\n",
              "      <button class=\"colab-df-convert\" onclick=\"convertToInteractive('df-a2fe619a-38b6-47b3-b63b-3e73e11fd358')\"\n",
              "              title=\"Convert this dataframe to an interactive table.\"\n",
              "              style=\"display:none;\">\n",
              "        \n",
              "  <svg xmlns=\"http://www.w3.org/2000/svg\" height=\"24px\"viewBox=\"0 0 24 24\"\n",
              "       width=\"24px\">\n",
              "    <path d=\"M0 0h24v24H0V0z\" fill=\"none\"/>\n",
              "    <path d=\"M18.56 5.44l.94 2.06.94-2.06 2.06-.94-2.06-.94-.94-2.06-.94 2.06-2.06.94zm-11 1L8.5 8.5l.94-2.06 2.06-.94-2.06-.94L8.5 2.5l-.94 2.06-2.06.94zm10 10l.94 2.06.94-2.06 2.06-.94-2.06-.94-.94-2.06-.94 2.06-2.06.94z\"/><path d=\"M17.41 7.96l-1.37-1.37c-.4-.4-.92-.59-1.43-.59-.52 0-1.04.2-1.43.59L10.3 9.45l-7.72 7.72c-.78.78-.78 2.05 0 2.83L4 21.41c.39.39.9.59 1.41.59.51 0 1.02-.2 1.41-.59l7.78-7.78 2.81-2.81c.8-.78.8-2.07 0-2.86zM5.41 20L4 18.59l7.72-7.72 1.47 1.35L5.41 20z\"/>\n",
              "  </svg>\n",
              "      </button>\n",
              "      \n",
              "  <style>\n",
              "    .colab-df-container {\n",
              "      display:flex;\n",
              "      flex-wrap:wrap;\n",
              "      gap: 12px;\n",
              "    }\n",
              "\n",
              "    .colab-df-convert {\n",
              "      background-color: #E8F0FE;\n",
              "      border: none;\n",
              "      border-radius: 50%;\n",
              "      cursor: pointer;\n",
              "      display: none;\n",
              "      fill: #1967D2;\n",
              "      height: 32px;\n",
              "      padding: 0 0 0 0;\n",
              "      width: 32px;\n",
              "    }\n",
              "\n",
              "    .colab-df-convert:hover {\n",
              "      background-color: #E2EBFA;\n",
              "      box-shadow: 0px 1px 2px rgba(60, 64, 67, 0.3), 0px 1px 3px 1px rgba(60, 64, 67, 0.15);\n",
              "      fill: #174EA6;\n",
              "    }\n",
              "\n",
              "    [theme=dark] .colab-df-convert {\n",
              "      background-color: #3B4455;\n",
              "      fill: #D2E3FC;\n",
              "    }\n",
              "\n",
              "    [theme=dark] .colab-df-convert:hover {\n",
              "      background-color: #434B5C;\n",
              "      box-shadow: 0px 1px 3px 1px rgba(0, 0, 0, 0.15);\n",
              "      filter: drop-shadow(0px 1px 2px rgba(0, 0, 0, 0.3));\n",
              "      fill: #FFFFFF;\n",
              "    }\n",
              "  </style>\n",
              "\n",
              "      <script>\n",
              "        const buttonEl =\n",
              "          document.querySelector('#df-a2fe619a-38b6-47b3-b63b-3e73e11fd358 button.colab-df-convert');\n",
              "        buttonEl.style.display =\n",
              "          google.colab.kernel.accessAllowed ? 'block' : 'none';\n",
              "\n",
              "        async function convertToInteractive(key) {\n",
              "          const element = document.querySelector('#df-a2fe619a-38b6-47b3-b63b-3e73e11fd358');\n",
              "          const dataTable =\n",
              "            await google.colab.kernel.invokeFunction('convertToInteractive',\n",
              "                                                     [key], {});\n",
              "          if (!dataTable) return;\n",
              "\n",
              "          const docLinkHtml = 'Like what you see? Visit the ' +\n",
              "            '<a target=\"_blank\" href=https://colab.research.google.com/notebooks/data_table.ipynb>data table notebook</a>'\n",
              "            + ' to learn more about interactive tables.';\n",
              "          element.innerHTML = '';\n",
              "          dataTable['output_type'] = 'display_data';\n",
              "          await google.colab.output.renderOutput(dataTable, element);\n",
              "          const docLink = document.createElement('div');\n",
              "          docLink.innerHTML = docLinkHtml;\n",
              "          element.appendChild(docLink);\n",
              "        }\n",
              "      </script>\n",
              "    </div>\n",
              "  </div>\n",
              "  "
            ]
          },
          "metadata": {},
          "execution_count": 27
        }
      ],
      "source": [
        "pred"
      ]
    },
    {
      "cell_type": "code",
      "execution_count": 28,
      "id": "25c20ce9",
      "metadata": {
        "id": "25c20ce9"
      },
      "outputs": [],
      "source": [
        "pred = pred[['mean', 'mean_ci_lower', 'mean_ci_upper']]\n",
        "pred.columns = ['Projection', 'Lower Bound', 'Upper Bound']\n",
        "pred.to_excel('Furniture Projected MarketSize - USCensus.xlsx')"
      ]
    }
  ],
  "metadata": {
    "kernelspec": {
      "display_name": "Python 3 (ipykernel)",
      "language": "python",
      "name": "python3"
    },
    "language_info": {
      "codemirror_mode": {
        "name": "ipython",
        "version": 3
      },
      "file_extension": ".py",
      "mimetype": "text/x-python",
      "name": "python",
      "nbconvert_exporter": "python",
      "pygments_lexer": "ipython3",
      "version": "3.8.10"
    },
    "colab": {
      "name": "Sarima model.ipynb",
      "provenance": [],
      "include_colab_link": true
    }
  },
  "nbformat": 4,
  "nbformat_minor": 5
}